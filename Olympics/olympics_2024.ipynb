{
 "cells": [
  {
   "cell_type": "markdown",
   "id": "8abf8ae4-468b-4954-af5b-53092acc0a22",
   "metadata": {},
   "source": [
    "## Olympics 2024 analysis \n",
    "Documentation [here](https://www.kaggle.com/datasets/x1akshay/olympics-2024/data)"
   ]
  },
  {
   "cell_type": "markdown",
   "id": "bc5bb36b-44ba-4da7-b832-a173612d2a51",
   "metadata": {},
   "source": [
    "Questions to be answered\n",
    "\n",
    "1. What are the key columns in the dataset?\n",
    "Identify which columns contain the most important information, such as countries, events, athletes, medals, and any other relevant data. Understanding these columns will help you focus your analysis.\n",
    "2. What is the total number of records in the dataset?\n",
    "Count the number of rows (records) and columns in the dataset. This will give you an idea of the dataset's size and structure.\n",
    "3. How has each country performed in the Olympics?\n",
    "Analyze the total number of medals won by each country. Determine which country has the highest number of gold, silver, and bronze medals.\n",
    "4. Which countries are participating in specific events?\n",
    "For a given event, identify which countries are participating and how many athletes each country is sending. This will help you understand participation patterns.\n",
    "5. Are there any missing or incorrect data entries?\n",
    "Check for any missing or incorrect data. Decide how to handle missing data—whether you'll replace it, ignore it, or remove it—and address any data points that seem incorrect or are outliers."
   ]
  },
  {
   "cell_type": "markdown",
   "id": "9d23aec1-a3ef-45bb-be2b-15dc6733830f",
   "metadata": {},
   "source": [
    "# Opening the csv file\n"
   ]
  },
  {
   "cell_type": "code",
   "execution_count": 10,
   "id": "fccd3799-2fd7-4254-b4d2-3831e33f6cb1",
   "metadata": {},
   "outputs": [
    {
     "name": "stdout",
     "output_type": "stream",
     "text": [
      "[['ï»¿Competitions', 'Rank', 'NOC', 'Gold', 'Silver', 'Bronze', 'Total'], ['Archery', '1', 'Â\\xa0South Korea', '5', '1', '1', '7'], ['Archery', '2', 'Â\\xa0France*', '0', '1', '1', '2']]\n"
     ]
    }
   ],
   "source": [
    "from csv import reader\n",
    "opened_file = open(r\"C:\\Users\\frede\\PROJECTS\\Olympics\\Olympics 2024.csv\")\n",
    "read_file = reader(opened_file)\n",
    "olympics = list(read_file)\n",
    "\n",
    "print(olympics[:3])"
   ]
  },
  {
   "cell_type": "markdown",
   "id": "21c2208b-752e-4fd4-9a5c-c8f40b04467f",
   "metadata": {},
   "source": [
    "I came across some errors with enconding. So I have used the encoding='utf-8-sig "
   ]
  },
  {
   "cell_type": "code",
   "execution_count": 14,
   "id": "4c4ada2e-1cb9-4107-91a4-b235b58e3f7c",
   "metadata": {},
   "outputs": [
    {
     "name": "stdout",
     "output_type": "stream",
     "text": [
      "[['Competitions', 'Rank', 'NOC', 'Gold', 'Silver', 'Bronze', 'Total'], ['Archery', '1', '\\xa0South Korea', '5', '1', '1', '7'], ['Archery', '2', '\\xa0France*', '0', '1', '1', '2']]\n"
     ]
    }
   ],
   "source": [
    "from csv import reader\n",
    "opened_file = open(r\"C:\\Users\\frede\\PROJECTS\\Olympics\\Olympics 2024.csv\",encoding='utf-8-sig')\n",
    "read_file = reader(opened_file)\n",
    "olympics = list(read_file)\n",
    "\n",
    "print(olympics[:3])"
   ]
  },
  {
   "cell_type": "code",
   "execution_count": null,
   "id": "c38ec291-d65c-4b6d-adbe-1f369dea9305",
   "metadata": {},
   "outputs": [],
   "source": []
  }
 ],
 "metadata": {
  "kernelspec": {
   "display_name": "Python 3 (ipykernel)",
   "language": "python",
   "name": "python3"
  },
  "language_info": {
   "codemirror_mode": {
    "name": "ipython",
    "version": 3
   },
   "file_extension": ".py",
   "mimetype": "text/x-python",
   "name": "python",
   "nbconvert_exporter": "python",
   "pygments_lexer": "ipython3",
   "version": "3.12.4"
  }
 },
 "nbformat": 4,
 "nbformat_minor": 5
}
