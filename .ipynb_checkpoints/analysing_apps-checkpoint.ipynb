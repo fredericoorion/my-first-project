{
 "cells": [
  {
   "cell_type": "markdown",
   "id": "8c89f43d-643a-494c-8eb2-11924be2f0c6",
   "metadata": {},
   "source": [
    "# Analysing Mobile App Data (Project 101)\n",
    "\n",
    "This project is my way of demonstrating what I have learnt so far in Python through a project.\n",
    "\n",
    "## Project Objective\n",
    "The primary goal of this project is to analyse mobile app data to provide insights for our developers. By understanding which types of apps are likely to attract more users, we can better inform our development strategies."
   ]
  },
  {
   "cell_type": "markdown",
   "id": "d2fdf76e-da7e-4d35-b2a8-c7d861dc6fc5",
   "metadata": {},
   "source": [
    "## Dataset Documentation\r\n",
    "\r\n",
    "For further details on the datasets used in this project, you can refer to the official documentation available on Kaggle:\r\n",
    "\r\n",
    "- **Android Dataset**: You can download the documentation [here](https://www.kaggle.com/datasets/lava18/google-play-store-apps/data).\r\n",
    "- **iOS Dataset**: You can download the documentation [here](https://www.kaggle.com/datasets/ramamet4/app-store-apple-data-set-10k-apps).\r\n",
    "\r\n",
    "The source for both datasets is Kaggle.\r\n"
   ]
  },
  {
   "cell_type": "markdown",
   "id": "50a043f8-4fea-4dfe-a129-8c969c70e747",
   "metadata": {},
   "source": [
    "## Google Play Dataset Documentation\r\n",
    "\r\n",
    "| Column Name     | Description                                                              |\r\n",
    "|-----------------|--------------------------------------------------------------------------|\r\n",
    "| **App**         | Name of the application.                                                 |\r\n",
    "| **Category**    | The category under which the app is listed in the Google Play Store.     |\r\n",
    "| **Reviews**     | The number of user reviews for the app.                                  |\r\n",
    "| **Installs**    | The number of times the app has been installed.                          |\r\n",
    "| **Type**        | Indicates whether the app is free or paid (`Free` or `Paid`).            |\r\n",
    "| **Price**       | The cost of the app (as a string), with the currency symbol (e.g., `$4.99`). Free apps have a price of `0`. |\r\n",
    "| **Genres**      | A list of genres associated with the app.                                |\r\n",
    "| **Content Rating** | The age group for which the app is suitable (e.g., `Everyone`, `Teen`).|\r\n",
    "| **Last Updated**| The date the app was last updated on the Play Store.                     |\r\n",
    "| **Current Ver** | The current version of the app.                                          |\r\n",
    "| **Android Ver** | The minimum required Android version for the app.            \n",
    "## iOS Dataset Documentation\r\n",
    "\r\n",
    "| Column Name         | Description                                                                 |\r\n",
    "|---------------------|-----------------------------------------------------------------------------|\r\n",
    "| **track_name**       | Name of the application.                                                    |\r\n",
    "| **currency**        | The currency in which the app's price is listed (e.g., `USD`).               |\r\n",
    "| **price**           | The cost of the app in the listed currency. Free apps have a price of `0.0`. |\r\n",
    "| **rating_count_tot**| The total number of user ratings.                                            |\r\n",
    "| **rating_count_ver**| The number of user ratings for the current version of the app.               |\r\n",
    "| **prime_genre**     | The primary genre of the app.                                                |\r\n",
    "| **user_rating**     | The average user rating for all versions of the app.                         |\r\n",
    "| **user_rating_ver** | The average user rating for the current version of the app.                  |\r\n",
    "| **ver**             | The current version of the app.                                              |\r\n",
    "| **cont_rating**     | The content rating, indicating the suitable age group (e.g., `4+`, `9+`).    |\r\n",
    "| **sup_devices.num** | The number of devices the app is compatible with.                            |\r\n",
    "| **ipadSc_urls.num** | The number of screenshots displayed for iPad devices.                        |\r\n",
    "| **lang.num**        | The number of supported languages.                                           |\r\n",
    "| **vpp_lic**         | Whether the app is available for volume purchase (`1` for yes, `0` for no).  |\r\n",
    "            |\r\n"
   ]
  },
  {
   "cell_type": "markdown",
   "id": "1bced050-3d05-4422-937f-48ef850a8ab6",
   "metadata": {},
   "source": [
    "### Data Loading and Initial Exploration\r\n",
    "\r\n",
    "Let's begin by loading the two datasets. Once the data is loaded, we will proceed with exploring the content to understand its structure and key features.\r\n",
    "\n"
   ]
  },
  {
   "cell_type": "code",
   "execution_count": 3,
   "id": "6a7a55c2-03b1-411f-8966-6606e9ddefb2",
   "metadata": {},
   "outputs": [],
   "source": [
    "from csv import reader\n",
    "\n",
    "# Opening the App Store dataset and creating a variable for the header\n",
    "opened_appstore = open(r'C:\\Users\\frede\\Documents\\DATAQUEST COURSE\\PROJECT 1\\datasets\\AppleStore.csv',encoding='utf8')\n",
    "read_appstore = reader(opened_appstore)\n",
    "ios = list(read_appstore) # Converting the read object into a list\n",
    "ios_header = ios[0]\n",
    "ios = ios[1:]\n",
    "\n",
    "# Opening the Play Store dataset and creating a variable for the header\n",
    "opened_playstore = open(r'C:\\Users\\frede\\Documents\\DATAQUEST COURSE\\PROJECT 1\\datasets\\googleplaystore.csv', encoding='utf8')\n",
    "read_playstore = reader(opened_playstore)\n",
    "android = list(read_playstore) # Converting the read object into a list\n",
    "android_header = android[0]\n",
    "android = android[1:]"
   ]
  },
  {
   "cell_type": "markdown",
   "id": "cb069c8b-cb17-4548-b0e5-b25f318d1253",
   "metadata": {},
   "source": [
    "### Loading the Datasets\r\n",
    "\r\n",
    "To begin our analysis, we first need to load the datasets. We'll be working with two datasets: one from the Apple App Store and the other from the Google Play Store.\r\n",
    "\r",
    " ### Steps:\r\n",
    "1. **Open and Read**: We open each dataset using the `open()` function and read the content using the `csv.reader` class.\r\n",
    "2. **Convert to List**: The read object is converted into a list to make it easier to manipulate.\r\n",
    "3. **Extract Headers**: We extract the header row from each dataset and store it separately.\r\n",
    "4. **Remove Headers from Data**: Finally, we remove the header row from the main dataset, leaving only the data rows for further analysis.\r\n"
   ]
  },
  {
   "cell_type": "markdown",
   "id": "1ded403e-1087-40fb-b15c-fdb97331a0de",
   "metadata": {},
   "source": [
    "## Creating a Data Exploration Function\r\n",
    "\r\n",
    "To make it easier to explore the two datasets, we'll first write a function named `explore_data()` that we can use repeatedly to examine rows in a more readable format. Additionally, we’ll add an option for our function to display the number of rows and columns in any dataset.\r\n",
    "\n"
   ]
  },
  {
   "cell_type": "code",
   "execution_count": 6,
   "id": "79bbec65-8c41-4d1c-b867-9dd7f8c2f886",
   "metadata": {},
   "outputs": [
    {
     "name": "stdout",
     "output_type": "stream",
     "text": [
      "['App', 'Category', 'Rating', 'Reviews', 'Size', 'Installs', 'Type', 'Price', 'Content Rating', 'Genres', 'Last Updated', 'Current Ver', 'Android Ver']\n",
      "\n",
      "\n",
      "['Photo Editor & Candy Camera & Grid & ScrapBook', 'ART_AND_DESIGN', '4.1', '159', '19M', '10,000+', 'Free', '0', 'Everyone', 'Art & Design', 'January 7, 2018', '1.0.0', '4.0.3 and up']\n",
      "\n",
      "\n",
      "['Coloring book moana', 'ART_AND_DESIGN', '3.9', '967', '14M', '500,000+', 'Free', '0', 'Everyone', 'Art & Design;Pretend Play', 'January 15, 2018', '2.0.0', '4.0.3 and up']\n",
      "\n",
      "\n",
      "['U Launcher Lite – FREE Live Cool Themes, Hide Apps', 'ART_AND_DESIGN', '4.7', '87510', '8.7M', '5,000,000+', 'Free', '0', 'Everyone', 'Art & Design', 'August 1, 2018', '1.2.4', '4.0.3 and up']\n",
      "\n",
      "\n",
      "Number of rows: 10841\n",
      "Number of columns: 13\n"
     ]
    }
   ],
   "source": [
    "def explore_data(dataset, start, end, rows_and_columns=False):\n",
    "    dataset_slice = dataset[start:end]    \n",
    "    for row in dataset_slice:\n",
    "        print(row)\n",
    "        print('\\n') # adds a new (empty) line after each row\n",
    "\n",
    "    if rows_and_columns:\n",
    "        print('Number of rows:', len(dataset))\n",
    "        print('Number of columns:', len(dataset[0])) \n",
    "\n",
    "print(android_header)\n",
    "print('\\n')\n",
    "explore_data(android, 0, 3, True)"
   ]
  },
  {
   "cell_type": "markdown",
   "id": "66c20687-22e6-4191-b7db-fedccfa0afaf",
   "metadata": {},
   "source": [
    "- \r\n",
    "We observe that the Google Play dataset contains 10,841 apps and 13 columns. At a quick glance, the columns that are likely to be useful for our analysis include:\r\n",
    "\r\n",
    "- **App**\r\n",
    "- **Category**\r\n",
    "- **Reviews**\r\n",
    "- **Installs**\r\n",
    "- **Type**\r\n",
    "- **Price**\r\n",
    "- **Genres**\r\n"
   ]
  },
  {
   "cell_type": "markdown",
   "id": "b7a38eeb-aae3-4b4b-bc57-f1d3fa0a357a",
   "metadata": {},
   "source": [
    "## Exploring the Data\n",
    "\n",
    "We have defined a function named `explore_data()` to help us explore the datasets in a more readable way. This function allows us to specify a range of rows to print and, optionally, the number of rows and columns in the dataset.\n",
    "\n",
    "### Function Details:\n",
    "- **`dataset`**: The dataset to explore.\n",
    "- **`start` and `end`**: The range of rows to display.\n",
    "- **`rows_and_columns` (optional)**: If set to `True`, the function will also display the total number of rows and columns in the dataset.\n",
    "\n",
    "### Example Usage:\n",
    "Above, we print the header of the Android dataset, followed by the first three rows. We also display the number of rows and columns in the dataset.\n"
   ]
  },
  {
   "cell_type": "code",
   "execution_count": 9,
   "id": "92108523-9d02-491e-a1cd-b9ee2a517a4b",
   "metadata": {},
   "outputs": [
    {
     "name": "stdout",
     "output_type": "stream",
     "text": [
      "['id', 'track_name', 'size_bytes', 'currency', 'price', 'rating_count_tot', 'rating_count_ver', 'user_rating', 'user_rating_ver', 'ver', 'cont_rating', 'prime_genre', 'sup_devices.num', 'ipadSc_urls.num', 'lang.num', 'vpp_lic']\n",
      "\n",
      "\n",
      "['284882215', 'Facebook', '389879808', 'USD', '0.0', '2974676', '212', '3.5', '3.5', '95.0', '4+', 'Social Networking', '37', '1', '29', '1']\n",
      "\n",
      "\n",
      "['389801252', 'Instagram', '113954816', 'USD', '0.0', '2161558', '1289', '4.5', '4.0', '10.23', '12+', 'Photo & Video', '37', '0', '29', '1']\n",
      "\n",
      "\n",
      "['529479190', 'Clash of Clans', '116476928', 'USD', '0.0', '2130805', '579', '4.5', '4.5', '9.24.12', '9+', 'Games', '38', '5', '18', '1']\n",
      "\n",
      "\n",
      "Number of rows: 7197\n",
      "Number of columns: 16\n"
     ]
    }
   ],
   "source": [
    "print(ios_header)\n",
    "print('\\n')\n",
    "explore_data(ios, 0, 3, True)"
   ]
  },
  {
   "cell_type": "markdown",
   "id": "b5c24b72-1c60-4195-a150-957439561484",
   "metadata": {},
   "source": [
    "## Overview of iOS Dataset\r\n",
    "\r\n",
    "We have 7,197 iOS apps in this dataset. The columns that seem particularly interesting for our analysis are:\r\n",
    "\r\n",
    "- **track_name**\r\n",
    "- **currency**\r\n",
    "- **price**\r\n",
    "- **rating_count_tot**\r\n",
    "- **rating_count_ver**\r\n",
    "- **prime_genre**\r\n",
    "\r\n",
    "While not all column names are self-explanatory, further details about each column can be found in the dataset documentation.\r\n",
    "\n",
    "\r\n"
   ]
  },
  {
   "cell_type": "code",
   "execution_count": 13,
   "id": "7833e1ef-6d1d-4144-84f6-32cf3504a999",
   "metadata": {},
   "outputs": [
    {
     "name": "stdout",
     "output_type": "stream",
     "text": [
      "['Life Made WI-Fi Touchscreen Photo Frame', '1.9', '19', '3.0M', '1,000+', 'Free', '0', 'Everyone', '', 'February 11, 2018', '1.0.19', '4.0 and up']\n"
     ]
    }
   ],
   "source": [
    "print(android[10472])"
   ]
  },
  {
   "cell_type": "markdown",
   "id": "7a4523ee-baec-4f55-af34-8cbe7b599fa3",
   "metadata": {},
   "source": [
    "# Data Cleaning\n",
    "\n",
    "In the previous step, we opened the two datasets and explored the data. Before beginning our analysis, it's crucial to ensure that the data we analyze is accurate; otherwise, the results of our analysis could be misleading. This means we need to:\n",
    "\n",
    "- Detect inaccurate data, and correct or remove it.\n",
    "- Detect duplicate data, and remove the duplicates.\n",
    "- Focus on data that aligns with our company's goals, specifically apps that are free to download and designed for an English-speaking audience.\n",
    "\n",
    "This process of preparing our data for analysis is called **data cleaning**. We will start by detecting and deleting incorrect data.\n",
    "\n",
    "### Identifying Incorrect Data\n",
    "Upon reviewing the datasets, I found that row 10,472 in the Google Play dataset has an incorrect entry. It is missing the column for genre.\n"
   ]
  },
  {
   "cell_type": "markdown",
   "id": "4093a3a9-1e93-4665-bd80-a19c5b30bc76",
   "metadata": {},
   "source": [
    "## Deleting wrong data\n",
    "To remove the row we use the *del statement* for instance del data[index]\n"
   ]
  },
  {
   "cell_type": "code",
   "execution_count": 15,
   "id": "e5c648bc-5cca-46cf-a88e-ddccb68efaf4",
   "metadata": {},
   "outputs": [
    {
     "name": "stdout",
     "output_type": "stream",
     "text": [
      "['osmino Wi-Fi: free WiFi', 'TOOLS', '4.2', '134203', '4.1M', '10,000,000+', 'Free', '0', 'Everyone', 'Tools', 'August 7, 2018', '6.06.14', '4.4 and up']\n"
     ]
    }
   ],
   "source": [
    "del android[10472]\n",
    "print(android[10472])"
   ]
  },
  {
   "cell_type": "markdown",
   "id": "d5522bac-8b76-4d8f-bf43-9914eb1c8761",
   "metadata": {},
   "source": [
    "## Removing duplicates\n",
    "* In the previous data cleaning we deleted a row with wrong data. Now we are going to get rid of duplicates entries. For instance, Instagram has four entries. In total there are 1,181 cases where an app occurs more than once."
   ]
  },
  {
   "cell_type": "code",
   "execution_count": 17,
   "id": "43dc2eb6-ff25-4738-8f30-3bcf0e9b83e2",
   "metadata": {},
   "outputs": [
    {
     "name": "stdout",
     "output_type": "stream",
     "text": [
      "['Instagram', 'SOCIAL', '4.5', '66577313', 'Varies with device', '1,000,000,000+', 'Free', '0', 'Teen', 'Social', 'July 31, 2018', 'Varies with device', 'Varies with device']\n",
      "['Instagram', 'SOCIAL', '4.5', '66577446', 'Varies with device', '1,000,000,000+', 'Free', '0', 'Teen', 'Social', 'July 31, 2018', 'Varies with device', 'Varies with device']\n",
      "['Instagram', 'SOCIAL', '4.5', '66577313', 'Varies with device', '1,000,000,000+', 'Free', '0', 'Teen', 'Social', 'July 31, 2018', 'Varies with device', 'Varies with device']\n",
      "['Instagram', 'SOCIAL', '4.5', '66509917', 'Varies with device', '1,000,000,000+', 'Free', '0', 'Teen', 'Social', 'July 31, 2018', 'Varies with device', 'Varies with device']\n"
     ]
    }
   ],
   "source": [
    "for app in android:\n",
    "    name = app[0]\n",
    "    if name == 'Instagram':\n",
    "        print(app)"
   ]
  },
  {
   "cell_type": "markdown",
   "id": "7d0ce78a-354a-4463-8b96-58cec19c65ea",
   "metadata": {},
   "source": [
    "* Let's count the number of duplicate entries using a loop.\n",
    "* We create two lists, one for storing unique names and one for the duplicate names."
   ]
  },
  {
   "cell_type": "code",
   "execution_count": 19,
   "id": "23c09614-0884-4d1e-a0fd-e5ea869652fe",
   "metadata": {},
   "outputs": [
    {
     "name": "stdout",
     "output_type": "stream",
     "text": [
      "Number of duplicate app 1181\n",
      "\n",
      "\n",
      "Example of duplicate apps ['Quick PDF Scanner + OCR FREE', 'Box', 'Google My Business', 'ZOOM Cloud Meetings', 'join.me - Simple Meetings', 'Box', 'Zenefits', 'Google Ads', 'Google My Business', 'Slack', 'FreshBooks Classic']\n"
     ]
    }
   ],
   "source": [
    "unique_names = []\n",
    "duplicate_names = []\n",
    "\n",
    "# we will iterate each row of android dataset, then we will assign to a var name the fisrt index[0] to the var and check if it is in unique_names, if it is in unique we append to duplicate\n",
    "for app in android:\n",
    "    name = app[0]\n",
    "    if name in unique_names:\n",
    "        duplicate_names.append(name)\n",
    "    else:\n",
    "        unique_names.append(name)\n",
    "\n",
    "print('Number of duplicate app', len(duplicate_names))\n",
    "print('\\n')\n",
    "print('Example of duplicate apps',  duplicate_names[:11])"
   ]
  },
  {
   "cell_type": "markdown",
   "id": "5f4f8e19-6ae3-4891-b39b-0939d2552e11",
   "metadata": {},
   "source": [
    "* we are not going to remove duplicate entries randomly. We will use a criterion to keep the apps with more reviews as they should be the most updated version.\n",
    "* The expected lenght will be the total lenght of android list - 1181(number of duplicate apps)"
   ]
  },
  {
   "cell_type": "code",
   "execution_count": 21,
   "id": "53b7a56a-4f32-4d97-97d0-64f63225c168",
   "metadata": {},
   "outputs": [
    {
     "name": "stdout",
     "output_type": "stream",
     "text": [
      "Expected lengh 9659\n"
     ]
    }
   ],
   "source": [
    "print('Expected lengh', len(android) - 1181)"
   ]
  },
  {
   "cell_type": "markdown",
   "id": "6d15c3c7-0c29-4989-b1b4-4d4209343b4c",
   "metadata": {},
   "source": [
    "* To remove duplicates we will do the following:\n",
    "1) Create a dictionary, where each dictionary key is a unique app name and the corresponding dictionary value is the highest number of reviews of that app\n",
    "2) We will use the information stored in the dictionary to create a new dataset, which will have only one entry per app. (and for each app, we will only select the entry with the highest number of reviews)"
   ]
  },
  {
   "cell_type": "code",
   "execution_count": 23,
   "id": "a681136c-f6e1-4e9c-88bb-89d2e7eb42dd",
   "metadata": {},
   "outputs": [
    {
     "data": {
      "text/plain": [
       "9659"
      ]
     },
     "execution_count": 23,
     "metadata": {},
     "output_type": "execute_result"
    }
   ],
   "source": [
    "reviews_max = {}\n",
    "\n",
    "for app in android:\n",
    "    name = app[0]\n",
    "    n_reviews = float(app[3])\n",
    "    \n",
    "    # If the app name is already in reviews_max, only update if n_reviews is greater\n",
    "    if name in reviews_max and n_reviews > reviews_max[name]:\n",
    "            reviews_max[name] = n_reviews\n",
    "        \n",
    "    # If the app name is not in reviews_max, simply add it with the current n_reviews\n",
    "    elif name not in reviews_max:\n",
    "        reviews_max[name] = n_reviews\n",
    "\n",
    "len(reviews_max)"
   ]
  },
  {
   "cell_type": "markdown",
   "id": "9fc1e7ea-a9f4-4ac6-a91d-94645dfe6c6f",
   "metadata": {},
   "source": [
    "* Now we will use the dictionary to remove the duplicate rows.\n",
    "* We created two lists. one to store the dataset clean, and the other to use during the iteration to remove duplicate\n",
    "* So for each app in android we will assign a var name and convert number of reviews to float\n",
    "* if number of reviews is equal to number of reviews in the dictionary with reviews_max that we created before and name is not in already added. we will append to the new list \"android_clean\". and finally we add the app name to already added to keep the iteration running.\n",
    "* The dataset should have now 9659 rows."
   ]
  },
  {
   "cell_type": "code",
   "execution_count": 25,
   "id": "45f55035-72dc-4860-baac-47a96fa4e31f",
   "metadata": {},
   "outputs": [
    {
     "name": "stdout",
     "output_type": "stream",
     "text": [
      "Number of rows without data cleaning 10840\n",
      "Number of rows after cleaning 9659\n",
      "\n",
      "\n",
      "['Photo Editor & Candy Camera & Grid & ScrapBook', 'ART_AND_DESIGN', '4.1', '159', '19M', '10,000+', 'Free', '0', 'Everyone', 'Art & Design', 'January 7, 2018', '1.0.0', '4.0.3 and up']\n",
      "\n",
      "\n",
      "['U Launcher Lite – FREE Live Cool Themes, Hide Apps', 'ART_AND_DESIGN', '4.7', '87510', '8.7M', '5,000,000+', 'Free', '0', 'Everyone', 'Art & Design', 'August 1, 2018', '1.2.4', '4.0.3 and up']\n",
      "\n",
      "\n",
      "['Sketch - Draw & Paint', 'ART_AND_DESIGN', '4.5', '215644', '25M', '50,000,000+', 'Free', '0', 'Teen', 'Art & Design', 'June 8, 2018', 'Varies with device', '4.2 and up']\n",
      "\n",
      "\n",
      "Number of rows: 9659\n",
      "Number of columns: 13\n"
     ]
    }
   ],
   "source": [
    "print('Number of rows without data cleaning', len(android))\n",
    "android_clean = []\n",
    "already_added = []\n",
    "\n",
    "for app in android:\n",
    "    name = app[0]\n",
    "    n_reviews = float(app[3])\n",
    "    if (n_reviews == reviews_max[name]) and (name not in already_added):\n",
    "        android_clean.append(app)\n",
    "        already_added.append(name)\n",
    "\n",
    "print('Number of rows after cleaning', len(android_clean))\n",
    "print('\\n')\n",
    "#using explore function\n",
    "explore_data(android_clean,0,3,True)\n",
    "        "
   ]
  },
  {
   "cell_type": "markdown",
   "id": "5d515589-aaf5-4b33-bfb3-c06a1a74e3f9",
   "metadata": {},
   "source": [
    "## Removing Non-English apps\n",
    "* In the previous step, we managed to remove duplicate apps in the google play dataset.\n",
    "* Remember that we will only use English for the apps we develop, and we`d like to analyse only the apps that are designed for an English-speaking audience.\n",
    "* If we explore the data long enough we will find that there are some apps with names that suggest they are not designed for English-speaking audience.\n"
   ]
  },
  {
   "cell_type": "code",
   "execution_count": 27,
   "id": "d092b22d-76e7-46b4-9b87-ca4b6bb932e1",
   "metadata": {},
   "outputs": [
    {
     "name": "stdout",
     "output_type": "stream",
     "text": [
      "爱奇艺PPS -《欢乐颂2》电视剧热播\n",
      "【脱出ゲーム】絶対に最後までプレイしないで 〜謎解き＆ブロックパズル〜\n",
      "\n",
      "\n",
      "中国語 AQリスニング\n",
      "لعبة تقدر تربح DZ\n"
     ]
    }
   ],
   "source": [
    "print(ios[813][1])\n",
    "print(ios[6731][1])\n",
    "print('\\n')\n",
    "print(android_clean[4412][0])\n",
    "print(android_clean[7940][0])"
   ]
  },
  {
   "cell_type": "markdown",
   "id": "7dd91bc8-f1e0-4478-bde8-de4fcf21f16e",
   "metadata": {},
   "source": [
    "* We are not interest in keeping these apps, so we'll remove them. \n",
    "* One way to do it is to remove a name containing a symbol tha isn't commonly used in English text.\n",
    "* English text includes letters from the English alphabet, numbers 0-9, punctuation marks (.,!,?) and other symbols (+,*)\n",
    "* Each character we use in a string has a corresponding number associated with it. For instance, the corresponding number for 'a' is 97, for 'A' is 65, and character '爱' is 29,233.\n",
    "* We can get the corresponding number of each character using the <code>ord()</code> built-in function. [Documentation link](https://docs.python.org/3/library/functions.html#ord)\n",
    "* The numbers corresponding to the characters we commonly use in an English text are all in the range 0 to 127, according to the ASCII (American Standard Code for Information Interchange) system."
   ]
  },
  {
   "cell_type": "code",
   "execution_count": 29,
   "id": "a7ec6e6b-503e-4887-a5bb-b6408a26c917",
   "metadata": {},
   "outputs": [
    {
     "name": "stdout",
     "output_type": "stream",
     "text": [
      "97\n",
      "98\n",
      "99\n",
      "102\n"
     ]
    }
   ],
   "source": [
    "print(ord('a'))\n",
    "print(ord('b'))\n",
    "print(ord('c'))\n",
    "print(ord('f'))"
   ]
  },
  {
   "cell_type": "markdown",
   "id": "8877614f-5b24-4ae4-9a7e-f1fd2b51fa09",
   "metadata": {},
   "source": [
    "* Based on this number range we can create a function that detects if the character belongs to the set of common English characters or not.\n",
    "* if the number is equal or less than 127, then the character belongs to the set of common English characters.\n",
    "* In python strings are indexable and iterable, which means we can use indexing to select an individual character and we can also iterate on the string using a for loop."
   ]
  },
  {
   "cell_type": "code",
   "execution_count": 31,
   "id": "a9930097-37e8-487a-aaef-e7c3a83bb0bf",
   "metadata": {},
   "outputs": [
    {
     "name": "stdout",
     "output_type": "stream",
     "text": [
      "a\n",
      "b\n",
      "c\n",
      "a\n",
      "b\n",
      "c\n"
     ]
    }
   ],
   "source": [
    "example = 'abc'\n",
    "for letter in example:\n",
    "    print(letter)\n",
    "\n",
    "print(example[0])\n",
    "print(example[1])\n",
    "print(example[2])"
   ]
  },
  {
   "cell_type": "markdown",
   "id": "a4928770-7698-4618-83c1-ab9fe9d0a513",
   "metadata": {},
   "source": [
    "* We are going to write a function to check each character of the app-name"
   ]
  },
  {
   "cell_type": "code",
   "execution_count": 33,
   "id": "9fe699ea-7b00-4d0a-8b45-5b8572a00463",
   "metadata": {},
   "outputs": [],
   "source": [
    "def check_english(string):\n",
    "    for letter in string:\n",
    "        if ord(letter) > 127:\n",
    "            return False\n",
    "            \n",
    "    return True"
   ]
  },
  {
   "cell_type": "code",
   "execution_count": 34,
   "id": "6efbe06e-e01e-45d0-a3c9-95e3dd86f2ac",
   "metadata": {},
   "outputs": [
    {
     "name": "stdout",
     "output_type": "stream",
     "text": [
      "True\n",
      "False\n",
      "False\n",
      "False\n"
     ]
    }
   ],
   "source": [
    "print(check_english('Instagram'))\n",
    "print(check_english('爱奇艺PPS -《欢乐颂2》电视剧热播'))\n",
    "print(check_english('Docs To Go™ Free Office Suite'))\n",
    "print(check_english('Instagram📷'))\n"
   ]
  },
  {
   "cell_type": "markdown",
   "id": "4e5255d5-8988-4659-b8f4-17b7a76aa930",
   "metadata": {},
   "source": [
    "* we wrote a function that detects non-English app names, but we saw that the function couldn't correctly identify certain English app names like 'Docs To Go™ Free Office Suite' and 'Instachat 😜'. This is because emojis and characters like ™ fall outside the ASCII range and have corresponding numbers over 127."
   ]
  },
  {
   "cell_type": "markdown",
   "id": "d8c6ef45-74de-4a7a-a0e9-1c9662b3031a",
   "metadata": {},
   "source": [
    "## * Below, we use the <code>is_english()</code> function to filter out the non-English apps for both data sets:\n",
    "* If we're going to use the function we've created, we'll lose useful data since many English apps will be incorrectly labeled as non-English.\n",
    "* To minimize the impact of data loss, we'll only remove an app if its name has more than three characters with corresponding numbers falling outside the ASCII range. This means all English apps with up to three emoji or other special characters will still be labeled as English.\n",
    "* We will change the function we created.\n",
    "\r\n"
   ]
  },
  {
   "cell_type": "code",
   "execution_count": 37,
   "id": "bc0c9919-06e6-4acd-b0a7-fb3e6204257d",
   "metadata": {},
   "outputs": [
    {
     "name": "stdout",
     "output_type": "stream",
     "text": [
      "True\n",
      "False\n",
      "True\n",
      "True\n"
     ]
    }
   ],
   "source": [
    "def is_english(string):\n",
    "    non_ascii = 0\n",
    "    \n",
    "    for character in string:\n",
    "        if ord(character) > 127:\n",
    "            non_ascii += 1\n",
    "    \n",
    "    if non_ascii > 3:\n",
    "        return False\n",
    "    else:\n",
    "        return True\n",
    "\n",
    "print(is_english('Instagram'))\n",
    "print(is_english('爱奇艺PPS -《欢乐颂2》电视剧热播'))\n",
    "print(is_english('Docs To Go™ Free Office Suite'))\n",
    "print(is_english('Instagram📷'))"
   ]
  },
  {
   "cell_type": "markdown",
   "id": "cb5d04b6-f850-49fe-9cbd-f3e1b4609d16",
   "metadata": {},
   "source": [
    "**Filtering out non-English apps from both datasets**"
   ]
  },
  {
   "cell_type": "code",
   "execution_count": 39,
   "id": "a24bfe6a-ab3a-49c6-9fe3-db981c4ba9c5",
   "metadata": {},
   "outputs": [
    {
     "name": "stdout",
     "output_type": "stream",
     "text": [
      "['Photo Editor & Candy Camera & Grid & ScrapBook', 'ART_AND_DESIGN', '4.1', '159', '19M', '10,000+', 'Free', '0', 'Everyone', 'Art & Design', 'January 7, 2018', '1.0.0', '4.0.3 and up']\n",
      "\n",
      "\n",
      "['U Launcher Lite – FREE Live Cool Themes, Hide Apps', 'ART_AND_DESIGN', '4.7', '87510', '8.7M', '5,000,000+', 'Free', '0', 'Everyone', 'Art & Design', 'August 1, 2018', '1.2.4', '4.0.3 and up']\n",
      "\n",
      "\n",
      "['Sketch - Draw & Paint', 'ART_AND_DESIGN', '4.5', '215644', '25M', '50,000,000+', 'Free', '0', 'Teen', 'Art & Design', 'June 8, 2018', 'Varies with device', '4.2 and up']\n",
      "\n",
      "\n",
      "Number of rows: 9614\n",
      "Number of columns: 13\n",
      "\n",
      "\n",
      "['284882215', 'Facebook', '389879808', 'USD', '0.0', '2974676', '212', '3.5', '3.5', '95.0', '4+', 'Social Networking', '37', '1', '29', '1']\n",
      "\n",
      "\n",
      "['389801252', 'Instagram', '113954816', 'USD', '0.0', '2161558', '1289', '4.5', '4.0', '10.23', '12+', 'Photo & Video', '37', '0', '29', '1']\n",
      "\n",
      "\n",
      "['529479190', 'Clash of Clans', '116476928', 'USD', '0.0', '2130805', '579', '4.5', '4.5', '9.24.12', '9+', 'Games', '38', '5', '18', '1']\n",
      "\n",
      "\n",
      "Number of rows: 6183\n",
      "Number of columns: 16\n"
     ]
    }
   ],
   "source": [
    "ios_english = []\n",
    "android_english = []\n",
    "\n",
    "for app in ios:\n",
    "    name = app[1] \n",
    "    if is_english(name):\n",
    "        ios_english.append(app)\n",
    "\n",
    "\n",
    "for app in android_clean:\n",
    "    name = app[0] \n",
    "    if is_english(name):\n",
    "        android_english.append(app)\n",
    "\n",
    "explore_data(android_english, 0, 3, True)\n",
    "print('\\n')\n",
    "explore_data(ios_english, 0, 3, True)\n",
    "    "
   ]
  },
  {
   "cell_type": "markdown",
   "id": "167c22f4-d785-4861-897e-2965f4bd1544",
   "metadata": {},
   "source": [
    "## Isolating the free apps\n",
    "**So far we:**\n",
    "* Removed inaccurate data\n",
    "* Removed duplicate app entries\n",
    "* Removed non-English apps\n",
    "* We can see that we're left with 9614 Android apps and 6183 iOS apps.\r\n",
    "\r\n",
    "\n",
    "* we only build apps that are free to download and install, and our main source of revenue consists of in-app ads. Our datasets contain both free and non-free apps; we'll need to isolate only the free apps for our analysis."
   ]
  },
  {
   "cell_type": "code",
   "execution_count": 41,
   "id": "9d98b039-99d8-4a90-826f-da77f7ad2789",
   "metadata": {},
   "outputs": [
    {
     "name": "stdout",
     "output_type": "stream",
     "text": [
      "['App', 'Category', 'Rating', 'Reviews', 'Size', 'Installs', 'Type', 'Price', 'Content Rating', 'Genres', 'Last Updated', 'Current Ver', 'Android Ver']\n",
      "['id', 'track_name', 'size_bytes', 'currency', 'price', 'rating_count_tot', 'rating_count_ver', 'user_rating', 'user_rating_ver', 'ver', 'cont_rating', 'prime_genre', 'sup_devices.num', 'ipadSc_urls.num', 'lang.num', 'vpp_lic']\n"
     ]
    }
   ],
   "source": [
    "print(android_header)\n",
    "# index 7 is the price in Android dataset\n",
    "print(ios_header)\n",
    "#index 4 is the price in IOS dataset"
   ]
  },
  {
   "cell_type": "markdown",
   "id": "9e7539bb-f6cb-4747-9f45-7e844ff5d1d5",
   "metadata": {},
   "source": [
    "* We'll loop through each dataset to isolate the free apps in separate lists\n",
    "* Isolate the apps that is free into those new lists\n",
    "* Remember to compare with strings otherwise it will get an error"
   ]
  },
  {
   "cell_type": "code",
   "execution_count": 43,
   "id": "31812d0a-779c-4750-8b09-c98adc832d80",
   "metadata": {},
   "outputs": [
    {
     "name": "stdout",
     "output_type": "stream",
     "text": [
      "['Photo Editor & Candy Camera & Grid & ScrapBook', 'ART_AND_DESIGN', '4.1', '159', '19M', '10,000+', 'Free', '0', 'Everyone', 'Art & Design', 'January 7, 2018', '1.0.0', '4.0.3 and up']\n",
      "\n",
      "\n",
      "['U Launcher Lite – FREE Live Cool Themes, Hide Apps', 'ART_AND_DESIGN', '4.7', '87510', '8.7M', '5,000,000+', 'Free', '0', 'Everyone', 'Art & Design', 'August 1, 2018', '1.2.4', '4.0.3 and up']\n",
      "\n",
      "\n",
      "['Sketch - Draw & Paint', 'ART_AND_DESIGN', '4.5', '215644', '25M', '50,000,000+', 'Free', '0', 'Teen', 'Art & Design', 'June 8, 2018', 'Varies with device', '4.2 and up']\n",
      "\n",
      "\n",
      "Number of rows: 8864\n",
      "Number of columns: 13\n",
      "\n",
      "\n",
      "['284882215', 'Facebook', '389879808', 'USD', '0.0', '2974676', '212', '3.5', '3.5', '95.0', '4+', 'Social Networking', '37', '1', '29', '1']\n",
      "\n",
      "\n",
      "['389801252', 'Instagram', '113954816', 'USD', '0.0', '2161558', '1289', '4.5', '4.0', '10.23', '12+', 'Photo & Video', '37', '0', '29', '1']\n",
      "\n",
      "\n",
      "['529479190', 'Clash of Clans', '116476928', 'USD', '0.0', '2130805', '579', '4.5', '4.5', '9.24.12', '9+', 'Games', '38', '5', '18', '1']\n",
      "\n",
      "\n",
      "Number of rows: 3222\n",
      "Number of columns: 16\n"
     ]
    }
   ],
   "source": [
    "android_free = []\n",
    "ios_free = []\n",
    "\n",
    "for app in android_english:\n",
    "    if app[7] == '0':\n",
    "        android_free.append(app)\n",
    "\n",
    "for app in ios_english:\n",
    "    if app[4] == '0.0':\n",
    "        ios_free.append(app)\n",
    "\n",
    "\n",
    "explore_data(android_free,0,3,True)\n",
    "print('\\n')\n",
    "explore_data(ios_free,0,3,True)\n",
    "        "
   ]
  },
  {
   "cell_type": "markdown",
   "id": "a1267fb3-f02c-4ccb-8d68-acb81c199b89",
   "metadata": {},
   "source": [
    "## Most commons apps part one\n",
    "* So far we removed innacurate data\n",
    "* removed duplicate apps entries\n",
    "* removed Non-English apps\n",
    "* isolated the free apps\n",
    "\n",
    "* our aim is to determine the kinds of apps that are likely to attract more users because our revenue is highly influenced by the number of people using our apps\n",
    "\n",
    "* Because our goal is to app the app on both Google Play and App store, we need to find app profiles that are successful on both markets. A profile that works well for both markets might be a productivity app tha makes use of gamification. \n",
    "* Let's begin the analysis by getting a sense of what are the most common genres for each market.\n",
    "* We will need to build **frequency** tables for a few columns is our dataset."
   ]
  },
  {
   "cell_type": "markdown",
   "id": "27e33c70-9bd3-4702-a682-c2cf8b9d3ac3",
   "metadata": {},
   "source": [
    "We will inspect both datasets and identify the columns you could use to generate frequency tables to find out what are the most common genres in each market."
   ]
  },
  {
   "cell_type": "code",
   "execution_count": 46,
   "id": "ec6f9bcd-b840-4915-b5be-493bcbb98b6f",
   "metadata": {},
   "outputs": [
    {
     "name": "stdout",
     "output_type": "stream",
     "text": [
      "Android dataset \n",
      " ['App', 'Category', 'Rating', 'Reviews', 'Size', 'Installs', 'Type', 'Price', 'Content Rating', 'Genres', 'Last Updated', 'Current Ver', 'Android Ver']\n",
      "Ios dataset \n",
      " ['id', 'track_name', 'size_bytes', 'currency', 'price', 'rating_count_tot', 'rating_count_ver', 'user_rating', 'user_rating_ver', 'ver', 'cont_rating', 'prime_genre', 'sup_devices.num', 'ipadSc_urls.num', 'lang.num', 'vpp_lic']\n"
     ]
    }
   ],
   "source": [
    "print('Android dataset','\\n', android_header)\n",
    "# index 3 is the reviews in Android dataset\n",
    "print('Ios dataset','\\n', ios_header)\n",
    "#index 5 is the reviews in IOS dataset"
   ]
  },
  {
   "cell_type": "markdown",
   "id": "dc88fce4-46fb-4d11-b880-6f2350c3bb9d",
   "metadata": {},
   "source": [
    "<code>sorted()</code> doest not work well with dictionaries. We can transform the dictionary into tuple where each tuple contains a key along with its corresponding dictionary value, to ensure the sorting works right, the dictionary values comes first and the dictionary key comes second. \n",
    "* We wrote a function named <code>display_table()</code>\n",
    "**<code>display_table()</code>** does the following\n",
    "  - Takes in two parameters: dataset and index. The dataset will be a list os lists and index will be an integer.\n",
    "  - Generates a frequency table using <code>freq_table()</code>\n",
    "  - Transform the frequency table into a list of tuples than sorts it in a descending order.\n",
    "  - prints the entries of the frequency table\n",
    " \n",
    "  "
   ]
  },
  {
   "cell_type": "code",
   "execution_count": 48,
   "id": "c8a75f01-3ef7-4c82-bfa7-c4a0288de08d",
   "metadata": {},
   "outputs": [],
   "source": [
    "def display_table(dataset, index):\n",
    "    table = freq_table(dataset, index)\n",
    "    table_display = []\n",
    "    for key in table:\n",
    "        key_val_as_tuple = (table[key], key)\n",
    "        table_display.append(key_val_as_tuple)\n",
    "\n",
    "    table_sorted = sorted(table_display, reverse = True)\n",
    "    for entry in table_sorted:\n",
    "        print(entry[1], ':', entry[0])"
   ]
  },
  {
   "cell_type": "code",
   "execution_count": 49,
   "id": "b491f23b-cb1f-4141-8a6a-1d72263edba3",
   "metadata": {},
   "outputs": [],
   "source": [
    "def freq_table(dataset, index):\n",
    "    # Initialize an empty dictionary to store the frequency of each unique value\n",
    "    frequency_table = {}    \n",
    "    # Initialize a counter to keep track of the total number of rows\n",
    "    total = 0\n",
    "    \n",
    "    # Loop through each row in the dataset\n",
    "    for row in dataset:\n",
    "        # Increment the total count by 1 for each row\n",
    "        total += 1\n",
    "        name = row[index]        \n",
    "        if name in frequency_table:\n",
    "            # If it is, increment its count by 1\n",
    "            frequency_table[name] += 1\n",
    "        else:\n",
    "            # If it's not, add it to the dictionary with a count of 1\n",
    "            frequency_table[name] = 1\n",
    "    \n",
    "    # Convert counts to percentages\n",
    "    table_percentage = {}\n",
    "    for key in frequency_table:\n",
    "        # Calculate the percentage of each value relative to the total count\n",
    "        percentage = (frequency_table[key] / total) * 100\n",
    "        table_percentage[key] = percentage\n",
    "    \n",
    "    # Return the final frequency table with percentages\n",
    "    return table_percentage\n"
   ]
  },
  {
   "cell_type": "markdown",
   "id": "2622a0d4-6ece-44ab-a95c-df94fbc18025",
   "metadata": {},
   "source": [
    "Use it to display the frequency table of the columns **prime_genre**, **Genres**, and **Category**."
   ]
  },
  {
   "cell_type": "code",
   "execution_count": 51,
   "id": "7bdc4105-09df-4845-b37f-84a5174e16b1",
   "metadata": {},
   "outputs": [
    {
     "name": "stdout",
     "output_type": "stream",
     "text": [
      "Games : 58.16263190564867\n",
      "Entertainment : 7.883302296710118\n",
      "Photo & Video : 4.9658597144630665\n",
      "Education : 3.662321539416512\n",
      "Social Networking : 3.2898820608317814\n",
      "Shopping : 2.60707635009311\n",
      "Utilities : 2.5139664804469275\n",
      "Sports : 2.1415270018621975\n",
      "Music : 2.0484171322160147\n",
      "Health & Fitness : 2.0173805090006205\n",
      "Productivity : 1.7380509000620732\n",
      "Lifestyle : 1.5828677839851024\n",
      "News : 1.3345747982619491\n",
      "Travel : 1.2414649286157666\n",
      "Finance : 1.1173184357541899\n",
      "Weather : 0.8690254500310366\n",
      "Food & Drink : 0.8069522036002483\n",
      "Reference : 0.5586592178770949\n",
      "Business : 0.5276225946617008\n",
      "Book : 0.4345127250155183\n",
      "Navigation : 0.186219739292365\n",
      "Medical : 0.186219739292365\n",
      "Catalogs : 0.12414649286157665\n"
     ]
    }
   ],
   "source": [
    "display_table(ios_free,11)"
   ]
  },
  {
   "cell_type": "markdown",
   "id": "4359694c-dde3-4742-a49a-5baa0c10350b",
   "metadata": {},
   "source": [
    "* What is the most common genre? What is the next most common?\n",
    "* What other patterns do you see?\n",
    "* What is the general impression — are most of the apps designed for practical purposes (education, shopping, utilities, productivity, lifestyle) or more for entertainment (games, photo and video, social networking, sports, music)?\n",
    "* Can you recommend an app profile for the App Store market based on this frequency table alone? If there's a large number of apps for a particular genre, does that also imply that apps of that genre generally have a large number of users?\r\n"
   ]
  },
  {
   "cell_type": "markdown",
   "id": "350eb2ae-3fe3-4e40-a7b1-fe3e49598f88",
   "metadata": {},
   "source": [
    "### Analysing IOS apps\n",
    "The most common genre among English-language and free apps in the iOS dataset is **Games**, accounting for **58.16%** of the total apps. The next most common genre is **Entertainment**, at **7.88%**. There is a significant gap between the first and second genres.\n",
    "\n",
    "We can observe a pattern where apps related to entertainment—such as games, photo and video, and social media—tend to be more prevalent. Based on this frequency table, it is recommended to focus on developing gaming apps, followed by entertainment apps, as these categories dominate the App Store market in terms of the number of available apps.\n",
    "\n",
    "However, it's important to note that the high number of entertainment apps does not necessarily indicate that they also have the largest user base. The demand for these apps might not match their supply, so further analysis would be needed to assess user engagement and profitability in these genres."
   ]
  },
  {
   "cell_type": "code",
   "execution_count": 54,
   "id": "29145e4b-9b5c-42d2-9d43-a57b372319ac",
   "metadata": {},
   "outputs": [
    {
     "name": "stdout",
     "output_type": "stream",
     "text": [
      "Category \n",
      "\n",
      "FAMILY : 18.907942238267147\n",
      "GAME : 9.724729241877256\n",
      "TOOLS : 8.461191335740072\n",
      "BUSINESS : 4.591606498194946\n",
      "LIFESTYLE : 3.9034296028880866\n",
      "PRODUCTIVITY : 3.892148014440433\n",
      "FINANCE : 3.7003610108303246\n",
      "MEDICAL : 3.531137184115524\n",
      "SPORTS : 3.395758122743682\n",
      "PERSONALIZATION : 3.3167870036101084\n",
      "COMMUNICATION : 3.2378158844765346\n",
      "HEALTH_AND_FITNESS : 3.0798736462093865\n",
      "PHOTOGRAPHY : 2.944494584837545\n",
      "NEWS_AND_MAGAZINES : 2.7978339350180503\n",
      "SOCIAL : 2.6624548736462095\n",
      "TRAVEL_AND_LOCAL : 2.33528880866426\n",
      "SHOPPING : 2.2450361010830324\n",
      "BOOKS_AND_REFERENCE : 2.1435018050541514\n",
      "DATING : 1.861462093862816\n",
      "VIDEO_PLAYERS : 1.7937725631768955\n",
      "MAPS_AND_NAVIGATION : 1.3989169675090252\n",
      "FOOD_AND_DRINK : 1.2409747292418771\n",
      "EDUCATION : 1.1620036101083033\n",
      "ENTERTAINMENT : 0.9589350180505415\n",
      "LIBRARIES_AND_DEMO : 0.9363718411552346\n",
      "AUTO_AND_VEHICLES : 0.9250902527075812\n",
      "HOUSE_AND_HOME : 0.8235559566787004\n",
      "WEATHER : 0.8009927797833934\n",
      "EVENTS : 0.7107400722021661\n",
      "PARENTING : 0.6543321299638989\n",
      "ART_AND_DESIGN : 0.6430505415162455\n",
      "COMICS : 0.6204873646209386\n",
      "BEAUTY : 0.5979241877256317\n",
      "\n",
      "\n",
      "Genre \n",
      "\n",
      "Tools : 8.449909747292418\n",
      "Entertainment : 6.069494584837545\n",
      "Education : 5.347472924187725\n",
      "Business : 4.591606498194946\n",
      "Productivity : 3.892148014440433\n",
      "Lifestyle : 3.892148014440433\n",
      "Finance : 3.7003610108303246\n",
      "Medical : 3.531137184115524\n",
      "Sports : 3.463447653429603\n",
      "Personalization : 3.3167870036101084\n",
      "Communication : 3.2378158844765346\n",
      "Action : 3.1024368231046933\n",
      "Health & Fitness : 3.0798736462093865\n",
      "Photography : 2.944494584837545\n",
      "News & Magazines : 2.7978339350180503\n",
      "Social : 2.6624548736462095\n",
      "Travel & Local : 2.3240072202166067\n",
      "Shopping : 2.2450361010830324\n",
      "Books & Reference : 2.1435018050541514\n",
      "Simulation : 2.0419675090252705\n",
      "Dating : 1.861462093862816\n",
      "Arcade : 1.8501805054151623\n",
      "Video Players & Editors : 1.7712093862815883\n",
      "Casual : 1.7599277978339352\n",
      "Maps & Navigation : 1.3989169675090252\n",
      "Food & Drink : 1.2409747292418771\n",
      "Puzzle : 1.128158844765343\n",
      "Racing : 0.9927797833935018\n",
      "Role Playing : 0.9363718411552346\n",
      "Libraries & Demo : 0.9363718411552346\n",
      "Auto & Vehicles : 0.9250902527075812\n",
      "Strategy : 0.9138086642599278\n",
      "House & Home : 0.8235559566787004\n",
      "Weather : 0.8009927797833934\n",
      "Events : 0.7107400722021661\n",
      "Adventure : 0.6768953068592057\n",
      "Comics : 0.6092057761732852\n",
      "Beauty : 0.5979241877256317\n",
      "Art & Design : 0.5979241877256317\n",
      "Parenting : 0.4963898916967509\n",
      "Card : 0.45126353790613716\n",
      "Casino : 0.42870036101083037\n",
      "Trivia : 0.41741877256317694\n",
      "Educational;Education : 0.39485559566787\n",
      "Board : 0.3835740072202166\n",
      "Educational : 0.3722924187725632\n",
      "Education;Education : 0.33844765342960287\n",
      "Word : 0.2594765342960289\n",
      "Casual;Pretend Play : 0.236913357400722\n",
      "Music : 0.2030685920577617\n",
      "Racing;Action & Adventure : 0.16922382671480143\n",
      "Puzzle;Brain Games : 0.16922382671480143\n",
      "Entertainment;Music & Video : 0.16922382671480143\n",
      "Casual;Brain Games : 0.13537906137184114\n",
      "Casual;Action & Adventure : 0.13537906137184114\n",
      "Arcade;Action & Adventure : 0.12409747292418773\n",
      "Action;Action & Adventure : 0.10153429602888085\n",
      "Educational;Pretend Play : 0.09025270758122744\n",
      "Simulation;Action & Adventure : 0.078971119133574\n",
      "Parenting;Education : 0.078971119133574\n",
      "Entertainment;Brain Games : 0.078971119133574\n",
      "Board;Brain Games : 0.078971119133574\n",
      "Parenting;Music & Video : 0.06768953068592057\n",
      "Educational;Brain Games : 0.06768953068592057\n",
      "Casual;Creativity : 0.06768953068592057\n",
      "Art & Design;Creativity : 0.06768953068592057\n",
      "Education;Pretend Play : 0.056407942238267145\n",
      "Role Playing;Pretend Play : 0.04512635379061372\n",
      "Education;Creativity : 0.04512635379061372\n",
      "Role Playing;Action & Adventure : 0.033844765342960284\n",
      "Puzzle;Action & Adventure : 0.033844765342960284\n",
      "Entertainment;Creativity : 0.033844765342960284\n",
      "Entertainment;Action & Adventure : 0.033844765342960284\n",
      "Educational;Creativity : 0.033844765342960284\n",
      "Educational;Action & Adventure : 0.033844765342960284\n",
      "Education;Music & Video : 0.033844765342960284\n",
      "Education;Brain Games : 0.033844765342960284\n",
      "Education;Action & Adventure : 0.033844765342960284\n",
      "Adventure;Action & Adventure : 0.033844765342960284\n",
      "Video Players & Editors;Music & Video : 0.02256317689530686\n",
      "Sports;Action & Adventure : 0.02256317689530686\n",
      "Simulation;Pretend Play : 0.02256317689530686\n",
      "Puzzle;Creativity : 0.02256317689530686\n",
      "Music;Music & Video : 0.02256317689530686\n",
      "Entertainment;Pretend Play : 0.02256317689530686\n",
      "Casual;Education : 0.02256317689530686\n",
      "Board;Action & Adventure : 0.02256317689530686\n",
      "Video Players & Editors;Creativity : 0.01128158844765343\n",
      "Trivia;Education : 0.01128158844765343\n",
      "Travel & Local;Action & Adventure : 0.01128158844765343\n",
      "Tools;Education : 0.01128158844765343\n",
      "Strategy;Education : 0.01128158844765343\n",
      "Strategy;Creativity : 0.01128158844765343\n",
      "Strategy;Action & Adventure : 0.01128158844765343\n",
      "Simulation;Education : 0.01128158844765343\n",
      "Role Playing;Brain Games : 0.01128158844765343\n",
      "Racing;Pretend Play : 0.01128158844765343\n",
      "Puzzle;Education : 0.01128158844765343\n",
      "Parenting;Brain Games : 0.01128158844765343\n",
      "Music & Audio;Music & Video : 0.01128158844765343\n",
      "Lifestyle;Pretend Play : 0.01128158844765343\n",
      "Lifestyle;Education : 0.01128158844765343\n",
      "Health & Fitness;Education : 0.01128158844765343\n",
      "Health & Fitness;Action & Adventure : 0.01128158844765343\n",
      "Entertainment;Education : 0.01128158844765343\n",
      "Communication;Creativity : 0.01128158844765343\n",
      "Comics;Creativity : 0.01128158844765343\n",
      "Casual;Music & Video : 0.01128158844765343\n",
      "Card;Action & Adventure : 0.01128158844765343\n",
      "Books & Reference;Education : 0.01128158844765343\n",
      "Art & Design;Pretend Play : 0.01128158844765343\n",
      "Art & Design;Action & Adventure : 0.01128158844765343\n",
      "Arcade;Pretend Play : 0.01128158844765343\n",
      "Adventure;Education : 0.01128158844765343\n"
     ]
    }
   ],
   "source": [
    "print('Category', '\\n')\n",
    "display_table(android_free,1)\n",
    "print('\\n')\n",
    "print('Genre', '\\n')\n",
    "\n",
    "display_table(android_free,9)"
   ]
  },
  {
   "cell_type": "markdown",
   "id": "50118c6c-c19f-4cbd-a11f-cd5720828e89",
   "metadata": {},
   "source": [
    "### Analysing Android apps\n",
    "In the Android apps dataset, the most common category is Family, accounting for 18.90% of the total apps. This is followed by Game at 9.72% and Tools at 8.46%.\n",
    "\n",
    "When looking at genres specifically, Tools lead with 8.44%, followed by Entertainment at 6.06% and Education at 5.34%.\n",
    "\n",
    "Insights:\n",
    "- Family Category Dominance: The dominance of the Family category suggests a broad range of apps aimed at family-related activities or child-friendly content.\n",
    "- Tools Consistency: The Tools category appears prominently in both the overall categories and genres, indicating a strong focus on utility apps in the Android market.\n",
    "- Entertainment and Education: These genres also stand out, highlighting their importance alongside tools, though they are less common than in the iOS market."
   ]
  },
  {
   "cell_type": "markdown",
   "id": "16070b0b-5464-4e64-a810-c58621a337d8",
   "metadata": {},
   "source": [
    "## Most Popular Apps by Genre on the App Store\n",
    "* Now, we'd like to determine the kind of apps with the most users.\r\n",
    "* One way to find out what genres are the most popular (have the most users) is to calculate the average number of installs for each app genre. \r\n",
    "* For the Google Play dataset, we can find this information in the Installs column, but this information is missing for the App Store dataset. \r\n",
    "* As a workaround, we'll take the total number of user ratings as a proxy, which we can find in the rating_count_tot app."
   ]
  },
  {
   "cell_type": "markdown",
   "id": "0fd65261-5489-43ed-9d58-1244e77efe09",
   "metadata": {},
   "source": [
    "To do that, we'll need to do the following:\n",
    "\n",
    "1) Isolate the apps of each genre\n",
    "2) Add up the user ratings for the apps of that genre\n",
    "3) Divide the sum by the number of apps belonging to that genre (not by the total number of apps)"
   ]
  },
  {
   "cell_type": "code",
   "execution_count": 58,
   "id": "779dad02-6852-421a-bfe1-fdcc98436bd6",
   "metadata": {},
   "outputs": [
    {
     "name": "stdout",
     "output_type": "stream",
     "text": [
      "Social Networking : 71548.35\n",
      "Photo & Video : 28441.54\n",
      "Games : 22788.67\n",
      "Music : 57326.53\n",
      "Reference : 74942.11\n",
      "Health & Fitness : 23298.02\n",
      "Weather : 52279.89\n",
      "Utilities : 18684.46\n",
      "Travel : 28243.8\n",
      "Shopping : 26919.69\n",
      "News : 21248.02\n",
      "Navigation : 86090.33\n",
      "Lifestyle : 16485.76\n",
      "Entertainment : 14029.83\n",
      "Food & Drink : 33333.92\n",
      "Sports : 23008.9\n",
      "Book : 39758.5\n",
      "Finance : 31467.94\n",
      "Education : 7003.98\n",
      "Productivity : 21028.41\n",
      "Business : 7491.12\n",
      "Catalogs : 4004.0\n",
      "Medical : 612.0\n"
     ]
    }
   ],
   "source": [
    "genre_ios = freq_table(ios_free,11)\n",
    "\n",
    "for genre in genre_ios:\n",
    "    total = 0\n",
    "    len_genre = 0\n",
    "    for app in ios_free:\n",
    "        genre_app = app[11]\n",
    "        if genre_app == genre:\n",
    "            n_ratings = float(app[5])\n",
    "            total += n_ratings\n",
    "            len_genre += 1\n",
    "    avg_n_ratings = total / len_genre\n",
    "    print(genre, ':', round(avg_n_ratings,2))\n"
   ]
  },
  {
   "cell_type": "markdown",
   "id": "ec231217-52ad-40bd-81c2-2b9dbaccfba9",
   "metadata": {},
   "source": [
    "Social Networking, photo & video, games, and music are the most popular app categories on average by number of ratings and installs in the iOS App Store. I would recommend choosing one of these categories."
   ]
  },
  {
   "cell_type": "markdown",
   "id": "4216fd35-be06-4d12-bfef-82fc8e1878e2",
   "metadata": {},
   "source": [
    "### Most popular apps in Google Play\n",
    "- the install numbers don't seem precise enough — we can see that most values are open-ended (100+, 1,000+, 5,000+, etc.)\n",
    "- We're going to leave the numbers as they are, which means that we'll consider that an app with 100,000+ installs has 100,000 installs, and an app with 1,000,000+ installs has 1,000,000 installs, and so on. To perform computations, however, we'll need to convert each install number from a string to a float. This means we need to remove the commas and the plus characters, or the conversion will fail and cause an error.\n",
    "- To remove characters from strings we can use the <code> str.replace(old,new)</code> method (just like list.append(), list.copy(). It is a special kind of function called method.\n",
    "- <code> str.replace(old,new)</code> takes two parameters (old,new)"
   ]
  },
  {
   "cell_type": "code",
   "execution_count": 61,
   "id": "d849ea53-a5b4-4b56-a9f7-03adf0844c6d",
   "metadata": {},
   "outputs": [
    {
     "name": "stdout",
     "output_type": "stream",
     "text": [
      "1,000,000+ : 15.726534296028879\n",
      "100,000+ : 11.552346570397113\n",
      "10,000,000+ : 10.548285198555957\n",
      "10,000+ : 10.198555956678701\n",
      "1,000+ : 8.393501805054152\n",
      "100+ : 6.915613718411552\n",
      "5,000,000+ : 6.825361010830325\n",
      "500,000+ : 5.561823104693141\n",
      "50,000+ : 4.7721119133574\n",
      "5,000+ : 4.512635379061372\n",
      "10+ : 3.5424187725631766\n",
      "500+ : 3.2490974729241873\n",
      "50,000,000+ : 2.3014440433213\n",
      "100,000,000+ : 2.1322202166064983\n",
      "50+ : 1.917870036101083\n",
      "5+ : 0.78971119133574\n",
      "1+ : 0.5076714801444043\n",
      "500,000,000+ : 0.2707581227436823\n",
      "1,000,000,000+ : 0.22563176895306858\n",
      "0+ : 0.04512635379061372\n",
      "0 : 0.01128158844765343\n"
     ]
    }
   ],
   "source": [
    "# start by generating a frequency table for the Category column\n",
    "display_table(android_free, 5)\n",
    "android_freq_table = freq_table(android_free,1)"
   ]
  },
  {
   "cell_type": "code",
   "execution_count": 62,
   "id": "f4bb0823-288b-47b2-bd24-28ce93a22f5b",
   "metadata": {},
   "outputs": [
    {
     "name": "stdout",
     "output_type": "stream",
     "text": [
      "ART_AND_DESIGN : 1986335.09\n",
      "AUTO_AND_VEHICLES : 647317.82\n",
      "BEAUTY : 513151.89\n",
      "BOOKS_AND_REFERENCE : 8767811.89\n",
      "BUSINESS : 1712290.15\n",
      "COMICS : 817657.27\n",
      "COMMUNICATION : 38456119.17\n",
      "DATING : 854028.83\n",
      "EDUCATION : 1833495.15\n",
      "ENTERTAINMENT : 11640705.88\n",
      "EVENTS : 253542.22\n",
      "FINANCE : 1387692.48\n",
      "FOOD_AND_DRINK : 1924897.74\n",
      "HEALTH_AND_FITNESS : 4188821.99\n",
      "HOUSE_AND_HOME : 1331540.56\n",
      "LIBRARIES_AND_DEMO : 638503.73\n",
      "LIFESTYLE : 1437816.27\n",
      "GAME : 15588015.6\n",
      "FAMILY : 3695641.82\n",
      "MEDICAL : 120550.62\n",
      "SOCIAL : 23253652.13\n",
      "SHOPPING : 7036877.31\n",
      "PHOTOGRAPHY : 17840110.4\n",
      "SPORTS : 3638640.14\n",
      "TRAVEL_AND_LOCAL : 13984077.71\n",
      "TOOLS : 10801391.3\n",
      "PERSONALIZATION : 5201482.61\n",
      "PRODUCTIVITY : 16787331.34\n",
      "PARENTING : 542603.62\n",
      "WEATHER : 5074486.2\n",
      "VIDEO_PLAYERS : 24727872.45\n",
      "NEWS_AND_MAGAZINES : 9549178.47\n",
      "MAPS_AND_NAVIGATION : 4056941.77\n"
     ]
    }
   ],
   "source": [
    "for category in android_freq_table:\n",
    "    total = 0\n",
    "    len_category = 0\n",
    "    for app in android_free:\n",
    "        category_app = app[1]\n",
    "        if category_app == category:\n",
    "            n_installs = app[5]\n",
    "            n_installs = n_installs.replace(',', '')\n",
    "            n_installs = n_installs.replace('+', '')\n",
    "            total += float(n_installs)\n",
    "            len_category += 1\n",
    "    avg_category = total / len_category\n",
    "    print(category,':', round(avg_category,2))\n",
    "\n"
   ]
  },
  {
   "cell_type": "markdown",
   "id": "aa202a26-d6f3-423a-a6ea-3f763e8d1f55",
   "metadata": {},
   "source": [
    "- On average, communication apps have the most installs: 38,456,119. This number is heavily skewed up by a few apps that have over one billion installs (WhatsApp, Facebook Messenger, Skype, Google Chrome, Gmail, and Hangouts), and a few others with over 100 and 500 million installs:"
   ]
  },
  {
   "cell_type": "code",
   "execution_count": 64,
   "id": "9e5cb4f9-bb5d-409b-a299-e297571c23dd",
   "metadata": {},
   "outputs": [
    {
     "name": "stdout",
     "output_type": "stream",
     "text": [
      "WhatsApp Messenger : 1,000,000,000+\n",
      "imo beta free calls and text : 100,000,000+\n",
      "Android Messages : 100,000,000+\n",
      "Google Duo - High Quality Video Calls : 500,000,000+\n",
      "Messenger – Text and Video Chat for Free : 1,000,000,000+\n",
      "imo free video calls and chat : 500,000,000+\n",
      "Skype - free IM & video calls : 1,000,000,000+\n",
      "Who : 100,000,000+\n",
      "GO SMS Pro - Messenger, Free Themes, Emoji : 100,000,000+\n",
      "LINE: Free Calls & Messages : 500,000,000+\n",
      "Google Chrome: Fast & Secure : 1,000,000,000+\n",
      "Firefox Browser fast & private : 100,000,000+\n",
      "UC Browser - Fast Download Private & Secure : 500,000,000+\n",
      "Gmail : 1,000,000,000+\n",
      "Hangouts : 1,000,000,000+\n",
      "Messenger Lite: Free Calls & Messages : 100,000,000+\n",
      "Kik : 100,000,000+\n",
      "KakaoTalk: Free Calls & Text : 100,000,000+\n",
      "Opera Mini - fast web browser : 100,000,000+\n",
      "Opera Browser: Fast and Secure : 100,000,000+\n",
      "Telegram : 100,000,000+\n",
      "Truecaller: Caller ID, SMS spam blocking & Dialer : 100,000,000+\n",
      "UC Browser Mini -Tiny Fast Private & Secure : 100,000,000+\n",
      "Viber Messenger : 500,000,000+\n",
      "WeChat : 100,000,000+\n",
      "Yahoo Mail – Stay Organized : 100,000,000+\n",
      "BBM - Free Calls & Messages : 100,000,000+\n"
     ]
    }
   ],
   "source": [
    "for app in android_free:\n",
    "    if app[1] == 'COMMUNICATION' and (app[5] == '1,000,000,000+'\n",
    "                                      or app[5] == '500,000,000+'\n",
    "                                      or app[5] == '100,000,000+'):\n",
    "        print(app[0], ':', app[5])"
   ]
  },
  {
   "cell_type": "markdown",
   "id": "4e8e62d2-33ec-49ef-941d-b9552cf20f08",
   "metadata": {},
   "source": [
    "If we removed all the communication apps that have over 100 million installs, the average would be reduced roughly ten times:"
   ]
  },
  {
   "cell_type": "code",
   "execution_count": 66,
   "id": "2aca643b-02ec-4345-936f-6f5413dbbddb",
   "metadata": {},
   "outputs": [
    {
     "data": {
      "text/plain": [
       "3603485.3884615386"
      ]
     },
     "execution_count": 66,
     "metadata": {},
     "output_type": "execute_result"
    }
   ],
   "source": [
    "under_100_m = []\n",
    "\n",
    "for app in android_free:\n",
    "    n_installs = app[5]\n",
    "    n_installs = n_installs.replace(',', '')\n",
    "    n_installs = n_installs.replace('+', '')\n",
    "    if (app[1] == 'COMMUNICATION') and (float(n_installs) < 100000000):\n",
    "        under_100_m.append(float(n_installs))\n",
    "        \n",
    "sum(under_100_m) / len(under_100_m)"
   ]
  },
  {
   "cell_type": "markdown",
   "id": "5b1cacd5-4a71-4b82-8f96-c8a5891bc63c",
   "metadata": {},
   "source": [
    "The book and reference genre includes a variety of apps: software for processing and reading ebooks, various collections of libraries, dictionaries, tutorials on programming or languages, etc. It seems there's still a small number of extremely popular apps that skew the average:"
   ]
  },
  {
   "cell_type": "code",
   "execution_count": 68,
   "id": "d05a2c4f-79e6-492d-98d2-bbe8ffde10b7",
   "metadata": {},
   "outputs": [
    {
     "name": "stdout",
     "output_type": "stream",
     "text": [
      "E-Book Read - Read Book for free : 50,000+\n",
      "Download free book with green book : 100,000+\n",
      "Wikipedia : 10,000,000+\n",
      "Cool Reader : 10,000,000+\n",
      "Free Panda Radio Music : 100,000+\n",
      "Book store : 1,000,000+\n",
      "FBReader: Favorite Book Reader : 10,000,000+\n",
      "English Grammar Complete Handbook : 500,000+\n",
      "Free Books - Spirit Fanfiction and Stories : 1,000,000+\n",
      "Google Play Books : 1,000,000,000+\n",
      "AlReader -any text book reader : 5,000,000+\n",
      "Offline English Dictionary : 100,000+\n",
      "Offline: English to Tagalog Dictionary : 500,000+\n",
      "FamilySearch Tree : 1,000,000+\n",
      "Cloud of Books : 1,000,000+\n",
      "Recipes of Prophetic Medicine for free : 500,000+\n",
      "ReadEra – free ebook reader : 1,000,000+\n",
      "Anonymous caller detection : 10,000+\n",
      "Ebook Reader : 5,000,000+\n",
      "Litnet - E-books : 100,000+\n",
      "Read books online : 5,000,000+\n",
      "English to Urdu Dictionary : 500,000+\n",
      "eBoox: book reader fb2 epub zip : 1,000,000+\n",
      "English Persian Dictionary : 500,000+\n",
      "Flybook : 500,000+\n",
      "All Maths Formulas : 1,000,000+\n",
      "Ancestry : 5,000,000+\n",
      "HTC Help : 10,000,000+\n",
      "English translation from Bengali : 100,000+\n",
      "Pdf Book Download - Read Pdf Book : 100,000+\n",
      "Free Book Reader : 100,000+\n",
      "eBoox new: Reader for fb2 epub zip books : 50,000+\n",
      "Only 30 days in English, the guideline is guaranteed : 500,000+\n",
      "Moon+ Reader : 10,000,000+\n",
      "SH-02J Owner's Manual (Android 8.0) : 50,000+\n",
      "English-Myanmar Dictionary : 1,000,000+\n",
      "Golden Dictionary (EN-AR) : 1,000,000+\n",
      "All Language Translator Free : 1,000,000+\n",
      "Azpen eReader : 500,000+\n",
      "URBANO V 02 instruction manual : 100,000+\n",
      "Bible : 100,000,000+\n",
      "C Programs and Reference : 50,000+\n",
      "C Offline Tutorial : 1,000+\n",
      "C Programs Handbook : 50,000+\n",
      "Amazon Kindle : 100,000,000+\n",
      "Aab e Hayat Full Novel : 100,000+\n",
      "Aldiko Book Reader : 10,000,000+\n",
      "Google I/O 2018 : 500,000+\n",
      "R Language Reference Guide : 10,000+\n",
      "Learn R Programming Full : 5,000+\n",
      "R Programing Offline Tutorial : 1,000+\n",
      "Guide for R Programming : 5+\n",
      "Learn R Programming : 10+\n",
      "R Quick Reference Big Data : 1,000+\n",
      "V Made : 100,000+\n",
      "Wattpad 📖 Free Books : 100,000,000+\n",
      "Dictionary - WordWeb : 5,000,000+\n",
      "Guide (for X-MEN) : 100,000+\n",
      "AC Air condition Troubleshoot,Repair,Maintenance : 5,000+\n",
      "AE Bulletins : 1,000+\n",
      "Ae Allah na Dai (Rasa) : 10,000+\n",
      "50000 Free eBooks & Free AudioBooks : 5,000,000+\n",
      "Ag PhD Field Guide : 10,000+\n",
      "Ag PhD Deficiencies : 10,000+\n",
      "Ag PhD Planting Population Calculator : 1,000+\n",
      "Ag PhD Soybean Diseases : 1,000+\n",
      "Fertilizer Removal By Crop : 50,000+\n",
      "A-J Media Vault : 50+\n",
      "Al-Quran (Free) : 10,000,000+\n",
      "Al Quran (Tafsir & by Word) : 500,000+\n",
      "Al Quran Indonesia : 10,000,000+\n",
      "Al'Quran Bahasa Indonesia : 10,000,000+\n",
      "Al Quran Al karim : 1,000,000+\n",
      "Al-Muhaffiz : 50,000+\n",
      "Al Quran : EAlim - Translations & MP3 Offline : 5,000,000+\n",
      "Al-Quran 30 Juz free copies : 500,000+\n",
      "Koran Read &MP3 30 Juz Offline : 1,000,000+\n",
      "Hafizi Quran 15 lines per page : 1,000,000+\n",
      "Quran for Android : 10,000,000+\n",
      "Surah Al-Waqiah : 100,000+\n",
      "Hisnul Al Muslim - Hisn Invocations & Adhkaar : 100,000+\n",
      "Satellite AR : 1,000,000+\n",
      "Audiobooks from Audible : 100,000,000+\n",
      "Kinot & Eichah for Tisha B'Av : 10,000+\n",
      "AW Tozer Devotionals - Daily : 5,000+\n",
      "Tozer Devotional -Series 1 : 1,000+\n",
      "The Pursuit of God : 1,000+\n",
      "AY Sing : 5,000+\n",
      "Ay Hasnain k Nana Milad Naat : 10,000+\n",
      "Ay Mohabbat Teri Khatir Novel : 10,000+\n",
      "Arizona Statutes, ARS (AZ Law) : 1,000+\n",
      "Oxford A-Z of English Usage : 1,000,000+\n",
      "BD Fishpedia : 1,000+\n",
      "BD All Sim Offer : 10,000+\n",
      "Youboox - Livres, BD et magazines : 500,000+\n",
      "B&H Kids AR : 10,000+\n",
      "B y H Niños ES : 5,000+\n",
      "Dictionary.com: Find Definitions for English Words : 10,000,000+\n",
      "English Dictionary - Offline : 10,000,000+\n",
      "Bible KJV : 5,000,000+\n",
      "Borneo Bible, BM Bible : 10,000+\n",
      "MOD Black for BM : 100+\n",
      "BM Box : 1,000+\n",
      "Anime Mod for BM : 100+\n",
      "NOOK: Read eBooks & Magazines : 10,000,000+\n",
      "NOOK Audiobooks : 500,000+\n",
      "NOOK App for NOOK Devices : 500,000+\n",
      "Browsery by Barnes & Noble : 5,000+\n",
      "bp e-store : 1,000+\n",
      "Brilliant Quotes: Life, Love, Family & Motivation : 1,000,000+\n",
      "BR Ambedkar Biography & Quotes : 10,000+\n",
      "BU Alsace : 100+\n",
      "Catholic La Bu Zo Kam : 500+\n",
      "Khrifa Hla Bu (Solfa) : 10+\n",
      "Kristian Hla Bu : 10,000+\n",
      "SA HLA BU : 1,000+\n",
      "Learn SAP BW : 500+\n",
      "Learn SAP BW on HANA : 500+\n",
      "CA Laws 2018 (California Laws and Codes) : 5,000+\n",
      "Bootable Methods(USB-CD-DVD) : 10,000+\n",
      "cloudLibrary : 100,000+\n",
      "SDA Collegiate Quarterly : 500+\n",
      "Sabbath School : 100,000+\n",
      "Cypress College Library : 100+\n",
      "Stats Royale for Clash Royale : 1,000,000+\n",
      "GATE 21 years CS Papers(2011-2018 Solved) : 50+\n",
      "Learn CT Scan Of Head : 5,000+\n",
      "Easy Cv maker 2018 : 10,000+\n",
      "How to Write CV : 100,000+\n",
      "CW Nuclear : 1,000+\n",
      "CY Spray nozzle : 10+\n",
      "BibleRead En Cy Zh Yue : 5+\n",
      "CZ-Help : 5+\n",
      "Modlitební knížka CZ : 500+\n",
      "Guide for DB Xenoverse : 10,000+\n",
      "Guide for DB Xenoverse 2 : 10,000+\n",
      "Guide for IMS DB : 10+\n",
      "DC HSEMA : 5,000+\n",
      "DC Public Library : 1,000+\n",
      "Painting Lulu DC Super Friends : 1,000+\n",
      "Dictionary : 10,000,000+\n",
      "Fix Error Google Playstore : 1,000+\n",
      "D. H. Lawrence Poems FREE : 1,000+\n",
      "Bilingual Dictionary Audio App : 5,000+\n",
      "DM Screen : 10,000+\n",
      "wikiHow: how to do anything : 1,000,000+\n",
      "Dr. Doug's Tips : 1,000+\n",
      "Bible du Semeur-BDS (French) : 50,000+\n",
      "La citadelle du musulman : 50,000+\n",
      "DV 2019 Entry Guide : 10,000+\n",
      "DV 2019 - EDV Photo & Form : 50,000+\n",
      "DV 2018 Winners Guide : 1,000+\n",
      "EB Annual Meetings : 1,000+\n",
      "EC - AP & Telangana : 5,000+\n",
      "TN Patta Citta & EC : 10,000+\n",
      "AP Stamps and Registration : 10,000+\n",
      "CompactiMa EC pH Calibration : 100+\n",
      "EGW Writings 2 : 100,000+\n",
      "EGW Writings : 1,000,000+\n",
      "Bible with EGW Comments : 100,000+\n",
      "My Little Pony AR Guide : 1,000,000+\n",
      "SDA Sabbath School Quarterly : 500,000+\n",
      "Duaa Ek Ibaadat : 5,000+\n",
      "Spanish English Translator : 10,000,000+\n",
      "Dictionary - Merriam-Webster : 10,000,000+\n",
      "JW Library : 10,000,000+\n",
      "Oxford Dictionary of English : Free : 10,000,000+\n",
      "English Hindi Dictionary : 10,000,000+\n",
      "English to Hindi Dictionary : 5,000,000+\n",
      "EP Research Service : 1,000+\n",
      "Hymnes et Louanges : 100,000+\n",
      "EU Charter : 1,000+\n",
      "EU Data Protection : 1,000+\n",
      "EU IP Codes : 100+\n",
      "EW PDF : 5+\n",
      "BakaReader EX : 100,000+\n",
      "EZ Quran : 50,000+\n",
      "FA Part 1 & 2 Past Papers Solved Free – Offline : 5,000+\n",
      "La Fe de Jesus : 1,000+\n",
      "La Fe de Jesús : 500+\n",
      "Le Fe de Jesus : 500+\n",
      "Florida - Pocket Brainbook : 1,000+\n",
      "Florida Statutes (FL Code) : 1,000+\n",
      "English To Shona Dictionary : 10,000+\n",
      "Greek Bible FP (Audio) : 1,000+\n",
      "Golden Dictionary (FR-AR) : 500,000+\n",
      "Fanfic-FR : 5,000+\n",
      "Bulgarian French Dictionary Fr : 10,000+\n",
      "Chemin (fr) : 1,000+\n",
      "The SCP Foundation DB fr nn5n : 1,000+\n"
     ]
    }
   ],
   "source": [
    "for app in android_free:\n",
    "    if app[1] == 'BOOKS_AND_REFERENCE':\n",
    "        print(app[0], ':', app[5])"
   ]
  },
  {
   "cell_type": "code",
   "execution_count": 69,
   "id": "52370a36-f484-4a1e-9f49-b14b8014bc6d",
   "metadata": {},
   "outputs": [
    {
     "name": "stdout",
     "output_type": "stream",
     "text": [
      "Google Play Books : 1,000,000,000+\n",
      "Bible : 100,000,000+\n",
      "Amazon Kindle : 100,000,000+\n",
      "Wattpad 📖 Free Books : 100,000,000+\n",
      "Audiobooks from Audible : 100,000,000+\n"
     ]
    }
   ],
   "source": [
    "for app in android_free:\n",
    "    if app[1] == 'BOOKS_AND_REFERENCE' and (app[5] == '1,000,000,000+'\n",
    "                                            or app[5] == '500,000,000+'\n",
    "                                            or app[5] == '100,000,000+'):\n",
    "        print(app[0], ':', app[5])"
   ]
  },
  {
   "cell_type": "markdown",
   "id": "a0c12a07-2bfa-4468-900e-93d669fc7fa6",
   "metadata": {},
   "source": [
    "However, it looks like there are only a few very popular apps, so this market still shows potential. Let's try to get some app ideas based on the kind of apps that are somewhere in the middle in terms of popularity (between 1,000,000 and 100,000,000 downloads):"
   ]
  },
  {
   "cell_type": "code",
   "execution_count": 71,
   "id": "bff491b6-4150-4230-9e0c-ae2b698b2cba",
   "metadata": {},
   "outputs": [
    {
     "name": "stdout",
     "output_type": "stream",
     "text": [
      "Wikipedia : 10,000,000+\n",
      "Cool Reader : 10,000,000+\n",
      "Book store : 1,000,000+\n",
      "FBReader: Favorite Book Reader : 10,000,000+\n",
      "Free Books - Spirit Fanfiction and Stories : 1,000,000+\n",
      "AlReader -any text book reader : 5,000,000+\n",
      "FamilySearch Tree : 1,000,000+\n",
      "Cloud of Books : 1,000,000+\n",
      "ReadEra – free ebook reader : 1,000,000+\n",
      "Ebook Reader : 5,000,000+\n",
      "Read books online : 5,000,000+\n",
      "eBoox: book reader fb2 epub zip : 1,000,000+\n",
      "All Maths Formulas : 1,000,000+\n",
      "Ancestry : 5,000,000+\n",
      "HTC Help : 10,000,000+\n",
      "Moon+ Reader : 10,000,000+\n",
      "English-Myanmar Dictionary : 1,000,000+\n",
      "Golden Dictionary (EN-AR) : 1,000,000+\n",
      "All Language Translator Free : 1,000,000+\n",
      "Aldiko Book Reader : 10,000,000+\n",
      "Dictionary - WordWeb : 5,000,000+\n",
      "50000 Free eBooks & Free AudioBooks : 5,000,000+\n",
      "Al-Quran (Free) : 10,000,000+\n",
      "Al Quran Indonesia : 10,000,000+\n",
      "Al'Quran Bahasa Indonesia : 10,000,000+\n",
      "Al Quran Al karim : 1,000,000+\n",
      "Al Quran : EAlim - Translations & MP3 Offline : 5,000,000+\n",
      "Koran Read &MP3 30 Juz Offline : 1,000,000+\n",
      "Hafizi Quran 15 lines per page : 1,000,000+\n",
      "Quran for Android : 10,000,000+\n",
      "Satellite AR : 1,000,000+\n",
      "Oxford A-Z of English Usage : 1,000,000+\n",
      "Dictionary.com: Find Definitions for English Words : 10,000,000+\n",
      "English Dictionary - Offline : 10,000,000+\n",
      "Bible KJV : 5,000,000+\n",
      "NOOK: Read eBooks & Magazines : 10,000,000+\n",
      "Brilliant Quotes: Life, Love, Family & Motivation : 1,000,000+\n",
      "Stats Royale for Clash Royale : 1,000,000+\n",
      "Dictionary : 10,000,000+\n",
      "wikiHow: how to do anything : 1,000,000+\n",
      "EGW Writings : 1,000,000+\n",
      "My Little Pony AR Guide : 1,000,000+\n",
      "Spanish English Translator : 10,000,000+\n",
      "Dictionary - Merriam-Webster : 10,000,000+\n",
      "JW Library : 10,000,000+\n",
      "Oxford Dictionary of English : Free : 10,000,000+\n",
      "English Hindi Dictionary : 10,000,000+\n",
      "English to Hindi Dictionary : 5,000,000+\n"
     ]
    }
   ],
   "source": [
    "for app in android_free:\n",
    "    if app[1] == 'BOOKS_AND_REFERENCE' and (app[5] == '1,000,000+'\n",
    "                                            or app[5] == '5,000,000+'\n",
    "                                            or app[5] == '10,000,000+'\n",
    "                                            or app[5] == '50,000,000+'):\n",
    "        print(app[0], ':', app[5])\n"
   ]
  },
  {
   "cell_type": "code",
   "execution_count": 72,
   "id": "7127ed91-6bf8-4b34-925b-d167cdb05992",
   "metadata": {},
   "outputs": [
    {
     "name": "stdout",
     "output_type": "stream",
     "text": [
      "Manga Master - Best manga & comic reader : 500,000+\n",
      "GANMA! - All original stories free of charge for all original comics : 1,000,000+\n",
      "Röhrich Werner Soundboard : 500,000+\n",
      "Unicorn Pokez - Color By Number : 50,000+\n",
      "MangaToon - Comics updated Daily : 50,000+\n",
      "Manga Net – Best Online Manga Reader : 50,000+\n",
      "Manga Rock - Best Manga Reader : 1,000,000+\n",
      "Manga - read Thai translation : 10,000+\n",
      "The Vietnam Story - Fun Stories : 10,000+\n",
      "Dragon Ball Wallpaper - Ringtones : 10,000+\n",
      "Funny Jokes Photos : 10,000+\n",
      "Truyện Vui Tý Quậy : 10,000+\n",
      "Comic Es - Shojo manga / love comics free of charge ♪ ♪ : 100,000+\n",
      "comico Popular Original Cartoon Updated Everyday Comico : 5,000,000+\n",
      "漫咖 Comics - Manga,Novel and Stories : 1,000,000+\n",
      "Emmanuella Funny Videos 2018 : 100,000+\n",
      "Manga Zero - Japanese cartoon and comic reader : 1,000,000+\n",
      "Marvel Unlimited : 1,000,000+\n",
      "Tapas – Comics, Novels, and Stories : 1,000,000+\n",
      "Children's cartoons (Mithu-Mina-Raju) : 100,000+\n",
      "Narrator's Voice : 5,000,000+\n",
      "【Ranobbe complete free】 Novelba - Free app that you can read and write novels : 50,000+\n",
      "Faustop Sounds : 100,000+\n",
      "Manga Mania - Best online manga reader : 10,000+\n",
      "- Free Comics - Comic Apps : 10,000+\n",
      "Buff Thun - Daily Free Webtoon / Comics / Web Fiction / Mini Game : 500,000+\n",
      "pixiv comic - everyone's manga app : 1,000,000+\n",
      "Funny Jokes and Stories 2018 : 5,000+\n",
      "Hojiboy Tojiboyev Life Hacks : 1,000+\n",
      "Perfect Viewer : 5,000,000+\n",
      "Best Wallpapers Backgrounds(100,000+ 4K HD) : 10,000+\n",
      "think Comics : 50,000+\n",
      "Memes Button : 1,000,000+\n",
      "Laftel - Watching and Announcing Snooping, Streaming : 100,000+\n",
      "Q Avatar (Avatar Maker) : 100,000+\n",
      "LINE WEBTOON - Free Comics : 10,000,000+\n",
      "2000 AD Comics and Judge Dredd : 50,000+\n",
      "AF Comics Reader - Free : 100+\n",
      "Manga AZ - Manga Comic Reader : 5,000+\n",
      "Ba dum tss - Rimshot widget : 50,000+\n",
      "Izneo, Read Manga, Comics & BD : 500,000+\n",
      "Comics Reader : 100,000+\n",
      "Make your Be Like Bill : 5,000+\n",
      "WebComics : 1,000,000+\n",
      "Lezhin Comics - Daily Releases : 1,000,000+\n",
      "Daily Manga - Comic & Webtoon : 100,000+\n",
      "TappyToon Comics & Webtoons : 100,000+\n",
      "Manga Books : 500,000+\n",
      "CJ - BR MEMES : 10,000+\n",
      "Archie Comics : 100,000+\n",
      "DC Comics : 1,000,000+\n",
      "Comics : 5,000,000+\n",
      "Superheroes, Marvel, DC, Comics, TV, Movies News : 5,000+\n",
      "Pepsi Cards DC : 50+\n",
      "Manga-FR - Anime Vostfr : 10,000+\n"
     ]
    }
   ],
   "source": [
    "for app in android_free:\n",
    "    if app[1] == 'COMICS':\n",
    "        print(app[0], ':', app[5])"
   ]
  },
  {
   "cell_type": "markdown",
   "id": "83a87b3d-86be-4ba6-bc11-8f5f36a8dbf1",
   "metadata": {},
   "source": [
    "This niche is filled with apps for reading and processing ebooks, as well as collections of libraries and dictionaries, so making similar apps might not be the best idea because there's a lot of competition.\n",
    "\n",
    "We also see many apps focused on the Quran, which shows that apps based on popular books can do well. Creating an app around a well-known book, maybe a newer one, could be successful in both the Google Play and App Store.\n",
    "\n",
    "But since there are already many library apps, we'll need to add something extra to stand out. This could be features like daily quotes, an audio version, quizzes, or a forum for discussions."
   ]
  },
  {
   "cell_type": "markdown",
   "id": "9f8af87b-da8b-4d7e-96a5-5cb17a223b02",
   "metadata": {},
   "source": [
    "# Conclusion \n",
    "In this project, we analysed data from the App Store and Google Play to identify an app profile that could be profitable in both markets.\n",
    "\n",
    "We found that creating an app based on a popular book, especially a newer one, could be a good opportunity. However, since there are already many library apps available, it's important to offer additional features beyond just the basic book content. These could include daily quotes, an audio version, quizzes, or a discussion forum related to the book."
   ]
  },
  {
   "cell_type": "code",
   "execution_count": null,
   "id": "d0386b00-1ed0-45b5-bcb5-af7b99c034f6",
   "metadata": {},
   "outputs": [],
   "source": []
  }
 ],
 "metadata": {
  "kernelspec": {
   "display_name": "Python 3 (ipykernel)",
   "language": "python",
   "name": "python3"
  },
  "language_info": {
   "codemirror_mode": {
    "name": "ipython",
    "version": 3
   },
   "file_extension": ".py",
   "mimetype": "text/x-python",
   "name": "python",
   "nbconvert_exporter": "python",
   "pygments_lexer": "ipython3",
   "version": "3.12.4"
  }
 },
 "nbformat": 4,
 "nbformat_minor": 5
}
